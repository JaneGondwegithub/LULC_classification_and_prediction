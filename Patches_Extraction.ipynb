{
  "cells": [
    {
      "cell_type": "markdown",
      "metadata": {
        "id": "view-in-github",
        "colab_type": "text"
      },
      "source": [
        "<a href=\"https://colab.research.google.com/github/JaneGondwegithub/LULC_classification_and_prediction/blob/main/Patches_Extraction.ipynb\" target=\"_parent\"><img src=\"https://colab.research.google.com/assets/colab-badge.svg\" alt=\"Open In Colab\"/></a>"
      ]
    },
    {
      "cell_type": "code",
      "execution_count": 3,
      "metadata": {
        "colab": {
          "base_uri": "https://localhost:8080/"
        },
        "id": "GEarYC_kr0gU",
        "outputId": "cb8f4932-a0bf-4363-f022-5ea8ee10fa64"
      },
      "outputs": [
        {
          "output_type": "stream",
          "name": "stdout",
          "text": [
            "GEE is initialized\n"
          ]
        }
      ],
      "source": [
        "import ee\n",
        "ee.Authenticate()\n",
        "ee.Initialize(project='lulc-experiment-2025')\n",
        "print(ee.String('GEE is initialized').getInfo())"
      ]
    },
    {
      "cell_type": "code",
      "execution_count": 4,
      "metadata": {
        "colab": {
          "base_uri": "https://localhost:8080/"
        },
        "id": "qr63sthiQ-sG",
        "outputId": "be0df901-7075-4ded-f512-11976b11c7c0"
      },
      "outputs": [
        {
          "output_type": "stream",
          "name": "stdout",
          "text": [
            "['b1']\n"
          ]
        }
      ],
      "source": [
        "import ee\n",
        "ee.Initialize(project='lulc-experiment-2025')\n",
        "lulc = ee.ImageCollection('projects/sat-io/open-datasets/landcover/ESRI_Global-LULC_10m').mosaic()\n",
        "print(lulc.bandNames().getInfo())"
      ]
    },
    {
      "cell_type": "code",
      "execution_count": 5,
      "metadata": {
        "colab": {
          "base_uri": "https://localhost:8080/"
        },
        "id": "Q7SVo-0D9H0t",
        "outputId": "b0f1bd01-f27a-4dbf-a2d7-cf34b6f653de"
      },
      "outputs": [
        {
          "output_type": "stream",
          "name": "stdout",
          "text": [
            "1539\n"
          ]
        }
      ],
      "source": [
        "import ee\n",
        "ee.Initialize(project='lulc-experiment-2025')\n",
        "sentinel2 = ee.ImageCollection('COPERNICUS/S2_SR_HARMONIZED') \\\n",
        "    .filterDate('2020-01-01', '2020-12-31') \\\n",
        "    .filter(ee.Filter.lt('CLOUDY_PIXEL_PERCENTAGE', 10)) \\\n",
        "    .filterBounds(ee.Geometry.BBox(32.67, -17.13, 35.92, -9.37))\n",
        "print(sentinel2.size().getInfo())  # Should return >0"
      ]
    },
    {
      "cell_type": "code",
      "execution_count": 6,
      "metadata": {
        "colab": {
          "base_uri": "https://localhost:8080/"
        },
        "id": "dPNSjS52BzYO",
        "outputId": "2b1f3a51-be68-44a8-90a9-4bc4c37c0757"
      },
      "outputs": [
        {
          "metadata": {
            "tags": null
          },
          "name": "stdout",
          "output_type": "stream",
          "text": [
            "Class distribution: {'1': 9521357, '2': 5974033, '3': 38256, '4': 151531, '5': 19457483, '6': 60015955, '7': 4820375, '8': 21010}\n",
            "Water (value 1): 9521357 pixels\n",
            "Trees (value 2): 5974033 pixels\n",
            "Flooded Vegetation (value 3): 38256 pixels\n",
            "Crops (value 4): 151531 pixels\n",
            "Built Area (value 5): 19457483 pixels\n",
            "Bare Ground (value 6): 60015955 pixels\n",
            "Snow/Ice (value 7): 4820375 pixels\n",
            "Clouds (value 8): 21010 pixels\n",
            "Rangeland (value 9): 0 pixels\n"
          ]
        }
      ],
      "source": [
        "import ee\n",
        "ee.Initialize(project='lulc-experiment-2025')\n",
        "lulc = ee.ImageCollection('projects/sat-io/open-datasets/landcover/ESRI_Global-LULC_10m').mosaic()\n",
        "CLASS_NAMES = ['Water', 'Trees', 'Flooded Vegetation', 'Crops', 'Built Area',\n",
        "               'Bare Ground', 'Snow/Ice', 'Clouds', 'Rangeland']\n",
        "CLASS_VALUES = list(range(1, 10))\n",
        "region = ee.Geometry.BBox(33.5, -14.0, 34.5, -13.0)  # Smaller Malawi subregion\n",
        "histogram = lulc.reduceRegion(\n",
        "    reducer=ee.Reducer.frequencyHistogram(),\n",
        "    geometry=region,\n",
        "    scale=10,\n",
        "    maxPixels=1e8,\n",
        "    bestEffort=True\n",
        ").get('b1').getInfo()\n",
        "print(\"Class distribution:\", histogram)\n",
        "for class_value, class_name in zip(CLASS_VALUES, CLASS_NAMES):\n",
        "    count = histogram.get(str(class_value), 0)\n",
        "    print(f\"{class_name} (value {class_value}): {count} pixels\")"
      ]
    },
    {
      "cell_type": "code",
      "execution_count": null,
      "metadata": {
        "id": "SiwR-JCIdje0"
      },
      "outputs": [],
      "source": [
        "import ee\n",
        "import logging\n",
        "\n",
        "# Set up logging\n",
        "logging.basicConfig(level=logging.INFO, format='%(asctime)s - %(levelname)s - %(message)s')\n",
        "\n",
        "# Authenticate and Initialize Earth Engine\n",
        "ee.Authenticate()\n",
        "ee.Initialize(project='lulc-experiment-2025')\n",
        "\n",
        "# Mount Google Drive in Colab\n",
        "from google.colab import drive\n",
        "drive.mount('/content/drive', force_remount=True)\n",
        "\n",
        "# CONFIGURATION\n",
        "PATCH_SIZE = 128\n",
        "S2_RES = 10\n",
        "BANDS = ['B2', 'B3', 'B4', 'B8', 'B11', 'B12']\n",
        "CLASS_NAMES = ['Water', 'Trees', 'Flooded Vegetation', 'Crops', 'Built Area', 'Bare Ground']\n",
        "CLASS_VALUES = [1, 2, 3, 4, 5, 6]\n",
        "PATCHES_PER_CLASS = 5000   # total number per class\n",
        "BATCH_SIZE = 200           # how many per batch per class\n",
        "EXPORT_FOLDER = 'lulc_patches'\n",
        "REGION = ee.Geometry.BBox(33.5, -14.0, 34.5, -13.0)\n",
        "\n",
        "# SET THESE FOR THIS BATCH!\n",
        "START_IDX = 800              # inclusive\n",
        "END_IDX = 1000                # exclusive\n",
        "\n",
        "lulc = ee.ImageCollection('projects/sat-io/open-datasets/landcover/ESRI_Global-LULC_10m').mosaic()\n",
        "s2 = ee.ImageCollection('COPERNICUS/S2_SR_HARMONIZED') \\\n",
        "    .filterDate('2020-01-01', '2020-12-31') \\\n",
        "    .filter(ee.Filter.lt('CLOUDY_PIXEL_PERCENTAGE', 10)) \\\n",
        "    .filterBounds(REGION) \\\n",
        "    .mosaic()\n",
        "\n",
        "def square_patch_geom(point, size_m):\n",
        "    coords = point.geometry().coordinates()\n",
        "    half = size_m / 2\n",
        "    lon = ee.Number(coords.get(0))\n",
        "    lat = ee.Number(coords.get(1))\n",
        "    lon_offset = half / 111320\n",
        "    lat_offset = half / 110540\n",
        "    return ee.Geometry.Rectangle([\n",
        "        [lon.subtract(lon_offset), lat.subtract(lat_offset)],\n",
        "        [lon.add(lon_offset), lat.add(lat_offset)]\n",
        "    ])\n",
        "\n",
        "def sample_patch_centers(class_value, num_patches):\n",
        "    mask = lulc.eq(class_value)\n",
        "    points = mask.stratifiedSample(\n",
        "        numPoints=num_patches,\n",
        "        classBand='b1',\n",
        "        region=REGION,\n",
        "        scale=10,\n",
        "        seed=42,\n",
        "        geometries=True\n",
        "    )\n",
        "    return points\n",
        "\n",
        "def export_patch(point, class_name, idx):\n",
        "    geom = square_patch_geom(point, PATCH_SIZE * S2_RES)\n",
        "    patch_img = s2.select(BANDS).clip(geom).toFloat()\n",
        "    fname = f\"{class_name}_patch_{idx:05d}\"\n",
        "    task = ee.batch.Export.image.toDrive(\n",
        "        image=patch_img,\n",
        "        description=fname,\n",
        "        folder=EXPORT_FOLDER,\n",
        "        fileNamePrefix=fname,\n",
        "        region=geom.getInfo()['coordinates'],\n",
        "        scale=S2_RES,\n",
        "        maxPixels=1e8\n",
        "    )\n",
        "    task.start()\n",
        "    logging.info(f\"Started export task: {fname}\")\n",
        "    return task\n",
        "\n",
        "# For each class, sample all patch centers ONCE (not per batch)\n",
        "for class_val, class_name in zip(CLASS_VALUES, CLASS_NAMES):\n",
        "    logging.info(f\"Sampling {PATCHES_PER_CLASS} centers for {class_name} (class value {class_val})\")\n",
        "    points = sample_patch_centers(class_val, PATCHES_PER_CLASS)\n",
        "    points_list = points.toList(PATCHES_PER_CLASS)\n",
        "    # Only export this batch\n",
        "    for i in range(START_IDX, min(END_IDX, PATCHES_PER_CLASS)):\n",
        "        pt = ee.Feature(points_list.get(i))\n",
        "        export_patch(pt, class_name, i)\n",
        "\n",
        "logging.info(f\"Submitted export tasks for patches {START_IDX} to {END_IDX-1} for each class.\")\n",
        "print(f\"Export tasks submitted for patches {START_IDX} to {END_IDX-1} for each class.\")\n",
        "print(\"Check the Earth Engine Code Editor > Tasks tab for progress and download patches from your Google Drive when done.\")"
      ]
    }
  ],
  "metadata": {
    "colab": {
      "provenance": [],
      "authorship_tag": "ABX9TyPWLlbkd5wGztiLz/KHVvII",
      "include_colab_link": true
    },
    "kernelspec": {
      "display_name": "Python 3",
      "name": "python3"
    },
    "language_info": {
      "name": "python"
    }
  },
  "nbformat": 4,
  "nbformat_minor": 0
}